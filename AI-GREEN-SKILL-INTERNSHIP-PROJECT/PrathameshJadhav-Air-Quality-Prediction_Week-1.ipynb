{
 "cells": [
  {
   "cell_type": "code",
   "execution_count": 1,
   "metadata": {},
   "outputs": [],
   "source": [
    "# Importing required libraries\n",
    "import numpy as np  # Linear algebra\n",
    "import pandas as pd  # Data processing, CSV file I/O\n",
    "import matplotlib.pyplot as plt  # Visualization\n",
    "import seaborn as sns  # Advanced visualization\n",
    "import datetime\n",
    "from warnings import filterwarnings\n",
    "filterwarnings('ignore')\n",
    "\n",
    "# Machine Learning imports\n",
    "from sklearn.preprocessing import LabelEncoder, StandardScaler\n",
    "from sklearn.model_selection import train_test_split\n",
    "from sklearn.linear_model import LinearRegression\n",
    "from sklearn.tree import DecisionTreeRegressor\n",
    "from sklearn.ensemble import RandomForestRegressor\n",
    "from sklearn.metrics import (\n",
    "    mean_absolute_error,\n",
    "    mean_squared_error,\n",
    "    r2_score,\n",
    "    accuracy_score,\n",
    "    confusion_matrix,\n",
    ")\n"
   ]
  },
  {
   "cell_type": "code",
   "execution_count": 2,
   "metadata": {},
   "outputs": [
    {
     "name": "stdout",
     "output_type": "stream",
     "text": [
      "First 5 rows of the dataset:\n",
      "        City        Date  PM2.5  PM10     NO    NO2    NOx  NH3     CO    SO2  \\\n",
      "0  Ahmedabad  2015-01-01    NaN   NaN   0.92  18.22  17.15  NaN   0.92  27.64   \n",
      "1  Ahmedabad  2015-01-02    NaN   NaN   0.97  15.69  16.46  NaN   0.97  24.55   \n",
      "2  Ahmedabad  2015-01-03    NaN   NaN  17.40  19.30  29.70  NaN  17.40  29.07   \n",
      "3  Ahmedabad  2015-01-04    NaN   NaN   1.70  18.48  17.97  NaN   1.70  18.59   \n",
      "4  Ahmedabad  2015-01-05    NaN   NaN  22.10  21.42  37.76  NaN  22.10  39.33   \n",
      "\n",
      "       O3  Benzene  Toluene  Xylene  AQI AQI_Bucket  \n",
      "0  133.36     0.00     0.02    0.00  NaN        NaN  \n",
      "1   34.06     3.68     5.50    3.77  NaN        NaN  \n",
      "2   30.70     6.80    16.40    2.25  NaN        NaN  \n",
      "3   36.08     4.43    10.14    1.00  NaN        NaN  \n",
      "4   39.31     7.01    18.89    2.78  NaN        NaN  \n"
     ]
    }
   ],
   "source": [
    "# Load the dataset\n",
    "df = pd.read_csv('air quality data.csv')\n",
    "print(\"First 5 rows of the dataset:\")\n",
    "print(df.head())"
   ]
  },
  {
   "cell_type": "code",
   "execution_count": 3,
   "metadata": {},
   "outputs": [
    {
     "name": "stdout",
     "output_type": "stream",
     "text": [
      "\n",
      "Dataset shape (rows, columns): (29531, 16)\n"
     ]
    }
   ],
   "source": [
    "# Checking the number of rows and columns of the dataset\n",
    "print(\"\\nDataset shape (rows, columns):\", df.shape)"
   ]
  },
  {
   "cell_type": "code",
   "execution_count": 4,
   "metadata": {},
   "outputs": [
    {
     "name": "stdout",
     "output_type": "stream",
     "text": [
      "\n",
      "Dataset Info:\n",
      "<class 'pandas.core.frame.DataFrame'>\n",
      "RangeIndex: 29531 entries, 0 to 29530\n",
      "Data columns (total 16 columns):\n",
      " #   Column      Non-Null Count  Dtype  \n",
      "---  ------      --------------  -----  \n",
      " 0   City        29531 non-null  object \n",
      " 1   Date        29531 non-null  object \n",
      " 2   PM2.5       24933 non-null  float64\n",
      " 3   PM10        18391 non-null  float64\n",
      " 4   NO          25949 non-null  float64\n",
      " 5   NO2         25946 non-null  float64\n",
      " 6   NOx         25346 non-null  float64\n",
      " 7   NH3         19203 non-null  float64\n",
      " 8   CO          27472 non-null  float64\n",
      " 9   SO2         25677 non-null  float64\n",
      " 10  O3          25509 non-null  float64\n",
      " 11  Benzene     23908 non-null  float64\n",
      " 12  Toluene     21490 non-null  float64\n",
      " 13  Xylene      11422 non-null  float64\n",
      " 14  AQI         24850 non-null  float64\n",
      " 15  AQI_Bucket  24850 non-null  object \n",
      "dtypes: float64(13), object(3)\n",
      "memory usage: 3.6+ MB\n"
     ]
    }
   ],
   "source": [
    "# Dataset Information Overview\n",
    "print(\"\\nDataset Info:\")\n",
    "df.info()"
   ]
  },
  {
   "cell_type": "code",
   "execution_count": 5,
   "metadata": {},
   "outputs": [
    {
     "name": "stdout",
     "output_type": "stream",
     "text": [
      "\n",
      "Missing values in each column:\n",
      "City              0\n",
      "Date              0\n",
      "PM2.5          4598\n",
      "PM10          11140\n",
      "NO             3582\n",
      "NO2            3585\n",
      "NOx            4185\n",
      "NH3           10328\n",
      "CO             2059\n",
      "SO2            3854\n",
      "O3             4022\n",
      "Benzene        5623\n",
      "Toluene        8041\n",
      "Xylene        18109\n",
      "AQI            4681\n",
      "AQI_Bucket     4681\n",
      "dtype: int64\n"
     ]
    }
   ],
   "source": [
    "# Checking for null values\n",
    "print(\"\\nMissing values in each column:\")\n",
    "print(df.isnull().sum())"
   ]
  },
  {
   "cell_type": "code",
   "execution_count": 6,
   "metadata": {},
   "outputs": [
    {
     "name": "stdout",
     "output_type": "stream",
     "text": [
      "\n",
      "Number of duplicate rows: 0\n"
     ]
    }
   ],
   "source": [
    "# Checking for duplicate rows\n",
    "duplicate_count = df.duplicated().sum()\n",
    "print(f\"\\nNumber of duplicate rows: {duplicate_count}\")"
   ]
  },
  {
   "cell_type": "code",
   "execution_count": 7,
   "metadata": {},
   "outputs": [],
   "source": [
    "# Dropping rows with missing values in 'AQI' column\n",
    "df = df.dropna(subset=['AQI'])"
   ]
  },
  {
   "cell_type": "code",
   "execution_count": 8,
   "metadata": {},
   "outputs": [
    {
     "name": "stdout",
     "output_type": "stream",
     "text": [
      "\n",
      "Missing values after handling 'AQI':\n",
      "Xylene        15372\n",
      "PM10           7086\n",
      "NH3            6536\n",
      "Toluene        5826\n",
      "Benzene        3535\n",
      "NOx            1857\n",
      "O3              807\n",
      "PM2.5           678\n",
      "SO2             605\n",
      "CO              445\n",
      "NO2             391\n",
      "NO              387\n",
      "City              0\n",
      "Date              0\n",
      "AQI               0\n",
      "AQI_Bucket        0\n",
      "dtype: int64\n"
     ]
    }
   ],
   "source": [
    "# Verifying if null values in 'AQI' are handled\n",
    "print(\"\\nMissing values after handling 'AQI':\")\n",
    "print(df.isnull().sum().sort_values(ascending=False))\n"
   ]
  },
  {
   "cell_type": "code",
   "execution_count": 9,
   "metadata": {},
   "outputs": [
    {
     "name": "stdout",
     "output_type": "stream",
     "text": [
      "\n",
      "Updated dataset shape: (24850, 16)\n"
     ]
    }
   ],
   "source": [
    "# Updated dataset shape\n",
    "print(\"\\nUpdated dataset shape:\", df.shape)"
   ]
  },
  {
   "cell_type": "code",
   "execution_count": 10,
   "metadata": {},
   "outputs": [
    {
     "name": "stdout",
     "output_type": "stream",
     "text": [
      "\n",
      "Descriptive statistics:\n",
      "           count        mean         std    min      25%      50%       75%  \\\n",
      "PM2.5    24172.0   67.476613   63.075398   0.04  29.0000   48.785   80.9250   \n",
      "PM10     17764.0  118.454435   89.487976   0.03  56.7775   96.180  150.1825   \n",
      "NO       24463.0   17.622421   22.421138   0.03   5.6600    9.910   20.0300   \n",
      "NO2      24459.0   28.978391   24.627054   0.01  11.9400   22.100   38.2400   \n",
      "NOx      22993.0   32.289012   30.712855   0.00  13.1100   23.680   40.1700   \n",
      "NH3      18314.0   23.848366   25.875981   0.01   8.9600   16.310   30.3600   \n",
      "CO       24405.0    2.345267    7.075208   0.00   0.5900    0.930    1.4800   \n",
      "SO2      24245.0   14.362933   17.428693   0.01   5.7300    9.220   15.1400   \n",
      "O3       24043.0   34.912885   21.724525   0.01  19.2500   31.250   46.0800   \n",
      "Benzene  21315.0    3.458668   16.036020   0.00   0.2300    1.290    3.3400   \n",
      "Toluene  19024.0    9.525714   20.881085   0.00   1.0275    3.575   10.1800   \n",
      "Xylene    9478.0    3.588683    6.754324   0.00   0.3900    1.420    4.1200   \n",
      "AQI      24850.0  166.463581  140.696585  13.00  81.0000  118.000  208.0000   \n",
      "\n",
      "             max  \n",
      "PM2.5     914.94  \n",
      "PM10      917.08  \n",
      "NO        390.68  \n",
      "NO2       362.21  \n",
      "NOx       378.24  \n",
      "NH3       352.89  \n",
      "CO        175.81  \n",
      "SO2       186.08  \n",
      "O3        257.73  \n",
      "Benzene   455.03  \n",
      "Toluene   454.85  \n",
      "Xylene    170.37  \n",
      "AQI      2049.00  \n"
     ]
    }
   ],
   "source": [
    "# Descriptive statistics for numerical features\n",
    "print(\"\\nDescriptive statistics:\")\n",
    "print(df.describe().T)"
   ]
  },
  {
   "cell_type": "code",
   "execution_count": 11,
   "metadata": {},
   "outputs": [
    {
     "name": "stdout",
     "output_type": "stream",
     "text": [
      "\n",
      "Percentage of missing values in each column:\n",
      "Xylene        61.859155\n",
      "PM10          28.515091\n",
      "NH3           26.301811\n",
      "Toluene       23.444668\n",
      "Benzene       14.225352\n",
      "NOx            7.472837\n",
      "O3             3.247485\n",
      "PM2.5          2.728370\n",
      "SO2            2.434608\n",
      "CO             1.790744\n",
      "NO2            1.573441\n",
      "NO             1.557344\n",
      "City           0.000000\n",
      "Date           0.000000\n",
      "AQI            0.000000\n",
      "AQI_Bucket     0.000000\n",
      "dtype: float64\n"
     ]
    }
   ],
   "source": [
    "# Percentage of missing values per column\n",
    "null_values_percentage = (\n",
    "    df.isnull().sum() / len(df) * 100\n",
    ").sort_values(ascending=False)\n",
    "print(\"\\nPercentage of missing values in each column:\")\n",
    "print(null_values_percentage)\n"
   ]
  },
  {
   "cell_type": "code",
   "execution_count": 12,
   "metadata": {},
   "outputs": [
    {
     "data": {
      "image/png": "[encoded data removed]",
      "text/plain": [
       "<Figure size 1000x600 with 1 Axes>"
      ]
     },
     "metadata": {},
     "output_type": "display_data"
    }
   ],
   "source": [
    "# Visualizing missing value percentages\n",
    "plt.figure(figsize=(10, 6))\n",
    "sns.barplot(x=null_values_percentage.index, y=null_values_percentage.values)\n",
    "plt.xticks(rotation=45)\n",
    "plt.title(\"Percentage of Missing Values by Column\")\n",
    "plt.ylabel(\"Percentage\")\n",
    "plt.xlabel(\"Columns\")\n",
    "plt.show()"
   ]
  },
  {
   "cell_type": "code",
   "execution_count": null,
   "metadata": {},
   "outputs": [],
   "source": []
  }
 ],
 "metadata": {
  "kernelspec": {
   "display_name": "Python 3",
   "language": "python",
   "name": "python3"
  },
  "language_info": {
   "codemirror_mode": {
    "name": "ipython",
    "version": 3
   },
   "file_extension": ".py",
   "mimetype": "text/x-python",
   "name": "python",
   "nbconvert_exporter": "python",
   "pygments_lexer": "ipython3",
   "version": "3.11.9"
  }
 },
 "nbformat": 4,
 "nbformat_minor": 2
}
